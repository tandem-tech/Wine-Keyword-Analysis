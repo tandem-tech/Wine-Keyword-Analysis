{
 "cells": [
  {
   "cell_type": "markdown",
   "id": "5d34c1e8",
   "metadata": {},
   "source": [
    "### Import dependencies"
   ]
  },
  {
   "cell_type": "code",
   "execution_count": 87,
   "id": "e29e6f68-3f93-4ba8-8ba8-444576a67945",
   "metadata": {},
   "outputs": [],
   "source": [
    "import pandas as pd\n",
    "import numpy as np\n",
    "import unidecode\n",
    "import matplotlib.pyplot as plt\n",
    "import seaborn as sns\n",
    "from IPython.display import display"
   ]
  },
  {
   "cell_type": "markdown",
   "id": "85b9a93e",
   "metadata": {},
   "source": [
    "### Read in the data"
   ]
  },
  {
   "cell_type": "code",
   "execution_count": 88,
   "id": "1a735c43-9ff3-41e5-bdb6-3871b9579bf2",
   "metadata": {},
   "outputs": [
    {
     "data": {
      "text/plain": [
       "(150930, 11)"
      ]
     },
     "execution_count": 88,
     "metadata": {},
     "output_type": "execute_result"
    }
   ],
   "source": [
    "wine_orig = pd.read_csv(\"wine_data.csv\")\n",
    "wine_orig.shape"
   ]
  },
  {
   "cell_type": "markdown",
   "id": "b7804297",
   "metadata": {},
   "source": [
    "### Checking the first few rows of the data"
   ]
  },
  {
   "cell_type": "code",
   "execution_count": 89,
   "id": "3600861b",
   "metadata": {},
   "outputs": [
    {
     "data": {
      "text/html": [
       "<div>\n",
       "<style scoped>\n",
       "    .dataframe tbody tr th:only-of-type {\n",
       "        vertical-align: middle;\n",
       "    }\n",
       "\n",
       "    .dataframe tbody tr th {\n",
       "        vertical-align: top;\n",
       "    }\n",
       "\n",
       "    .dataframe thead th {\n",
       "        text-align: right;\n",
       "    }\n",
       "</style>\n",
       "<table border=\"1\" class=\"dataframe\">\n",
       "  <thead>\n",
       "    <tr style=\"text-align: right;\">\n",
       "      <th></th>\n",
       "      <th>Unnamed: 0</th>\n",
       "      <th>country</th>\n",
       "      <th>description</th>\n",
       "      <th>designation</th>\n",
       "      <th>points</th>\n",
       "      <th>price</th>\n",
       "      <th>province</th>\n",
       "      <th>region_1</th>\n",
       "      <th>region_2</th>\n",
       "      <th>variety</th>\n",
       "      <th>winery</th>\n",
       "    </tr>\n",
       "  </thead>\n",
       "  <tbody>\n",
       "    <tr>\n",
       "      <th>0</th>\n",
       "      <td>0</td>\n",
       "      <td>US</td>\n",
       "      <td>This tremendous 100% varietal wine hails from ...</td>\n",
       "      <td>Martha's Vineyard</td>\n",
       "      <td>96</td>\n",
       "      <td>235.0</td>\n",
       "      <td>California</td>\n",
       "      <td>Napa Valley</td>\n",
       "      <td>Napa</td>\n",
       "      <td>Cabernet Sauvignon</td>\n",
       "      <td>Heitz</td>\n",
       "    </tr>\n",
       "    <tr>\n",
       "      <th>1</th>\n",
       "      <td>1</td>\n",
       "      <td>Spain</td>\n",
       "      <td>Ripe aromas of fig, blackberry and cassis are ...</td>\n",
       "      <td>Carodorum Selección Especial Reserva</td>\n",
       "      <td>96</td>\n",
       "      <td>110.0</td>\n",
       "      <td>Northern Spain</td>\n",
       "      <td>Toro</td>\n",
       "      <td>NaN</td>\n",
       "      <td>Tinta de Toro</td>\n",
       "      <td>Bodega Carmen Rodríguez</td>\n",
       "    </tr>\n",
       "    <tr>\n",
       "      <th>2</th>\n",
       "      <td>2</td>\n",
       "      <td>US</td>\n",
       "      <td>Mac Watson honors the memory of a wine once ma...</td>\n",
       "      <td>Special Selected Late Harvest</td>\n",
       "      <td>96</td>\n",
       "      <td>90.0</td>\n",
       "      <td>California</td>\n",
       "      <td>Knights Valley</td>\n",
       "      <td>Sonoma</td>\n",
       "      <td>Sauvignon Blanc</td>\n",
       "      <td>Macauley</td>\n",
       "    </tr>\n",
       "    <tr>\n",
       "      <th>3</th>\n",
       "      <td>3</td>\n",
       "      <td>US</td>\n",
       "      <td>This spent 20 months in 30% new French oak, an...</td>\n",
       "      <td>Reserve</td>\n",
       "      <td>96</td>\n",
       "      <td>65.0</td>\n",
       "      <td>Oregon</td>\n",
       "      <td>Willamette Valley</td>\n",
       "      <td>Willamette Valley</td>\n",
       "      <td>Pinot Noir</td>\n",
       "      <td>Ponzi</td>\n",
       "    </tr>\n",
       "    <tr>\n",
       "      <th>4</th>\n",
       "      <td>4</td>\n",
       "      <td>France</td>\n",
       "      <td>This is the top wine from La Bégude, named aft...</td>\n",
       "      <td>La Brûlade</td>\n",
       "      <td>95</td>\n",
       "      <td>66.0</td>\n",
       "      <td>Provence</td>\n",
       "      <td>Bandol</td>\n",
       "      <td>NaN</td>\n",
       "      <td>Provence red blend</td>\n",
       "      <td>Domaine de la Bégude</td>\n",
       "    </tr>\n",
       "  </tbody>\n",
       "</table>\n",
       "</div>"
      ],
      "text/plain": [
       "   Unnamed: 0 country                                        description  \\\n",
       "0           0      US  This tremendous 100% varietal wine hails from ...   \n",
       "1           1   Spain  Ripe aromas of fig, blackberry and cassis are ...   \n",
       "2           2      US  Mac Watson honors the memory of a wine once ma...   \n",
       "3           3      US  This spent 20 months in 30% new French oak, an...   \n",
       "4           4  France  This is the top wine from La Bégude, named aft...   \n",
       "\n",
       "                            designation  points  price        province  \\\n",
       "0                     Martha's Vineyard      96  235.0      California   \n",
       "1  Carodorum Selección Especial Reserva      96  110.0  Northern Spain   \n",
       "2         Special Selected Late Harvest      96   90.0      California   \n",
       "3                               Reserve      96   65.0          Oregon   \n",
       "4                            La Brûlade      95   66.0        Provence   \n",
       "\n",
       "            region_1           region_2             variety  \\\n",
       "0        Napa Valley               Napa  Cabernet Sauvignon   \n",
       "1               Toro                NaN       Tinta de Toro   \n",
       "2     Knights Valley             Sonoma     Sauvignon Blanc   \n",
       "3  Willamette Valley  Willamette Valley          Pinot Noir   \n",
       "4             Bandol                NaN  Provence red blend   \n",
       "\n",
       "                    winery  \n",
       "0                    Heitz  \n",
       "1  Bodega Carmen Rodríguez  \n",
       "2                 Macauley  \n",
       "3                    Ponzi  \n",
       "4     Domaine de la Bégude  "
      ]
     },
     "execution_count": 89,
     "metadata": {},
     "output_type": "execute_result"
    }
   ],
   "source": [
    "wine_orig.head()"
   ]
  },
  {
   "cell_type": "markdown",
   "id": "9dbf0757",
   "metadata": {},
   "source": [
    "### Check for null values\n",
    "Here we check for null values and what percentage of each column is null before we decide what we want to do with the data."
   ]
  },
  {
   "cell_type": "code",
   "execution_count": 90,
   "id": "eef536ad-b998-4e0e-a6f4-4c85a54434ab",
   "metadata": {},
   "outputs": [
    {
     "name": "stdout",
     "output_type": "stream",
     "text": [
      "Total number of null values in each column: \n",
      "region_2       89977\n",
      "designation    45735\n",
      "region_1       25060\n",
      "price          13695\n",
      "country            5\n",
      "province           5\n",
      "Unnamed: 0         0\n",
      "description        0\n",
      "points             0\n",
      "variety            0\n",
      "winery             0\n",
      "dtype: int64\n",
      "\n",
      "Percentage of null values in each column: \n",
      "region_2       59.6151%\n",
      "designation    30.3021%\n",
      "region_1       16.6037%\n",
      "price           9.0737%\n",
      "country         0.0033%\n",
      "province        0.0033%\n",
      "Unnamed: 0      0.0000%\n",
      "description     0.0000%\n",
      "points          0.0000%\n",
      "variety         0.0000%\n",
      "winery          0.0000%\n",
      "dtype: object\n"
     ]
    }
   ],
   "source": [
    "print(\"Total number of null values in each column: \")\n",
    "print(wine_orig.isna().sum().sort_values(ascending=False))\n",
    "\n",
    "print(\"\\nPercentage of null values in each column: \")\n",
    "print((wine_orig.isnull().mean().sort_values(ascending=False) * 100).apply(lambda x: '{:.4f}%'.format(x)))"
   ]
  },
  {
   "cell_type": "markdown",
   "id": "a2602362",
   "metadata": {},
   "source": [
    "### Dropping columns and rows\n",
    "Here we drop the region_1, region_2 and designation columns as they contain a large portion of null values. We also drop the rows where there are null values in the country and price field, but do not drop the columns as they account for a smaller percentage of the data and we are interested in both features. We also drop the first column as it's simply a counter for each entry."
   ]
  },
  {
   "cell_type": "code",
   "execution_count": 91,
   "id": "416bece2",
   "metadata": {},
   "outputs": [
    {
     "name": "stdout",
     "output_type": "stream",
     "text": [
      "country        0\n",
      "description    0\n",
      "points         0\n",
      "price          0\n",
      "province       0\n",
      "variety        0\n",
      "winery         0\n",
      "dtype: int64\n"
     ]
    },
    {
     "data": {
      "text/html": [
       "<div>\n",
       "<style scoped>\n",
       "    .dataframe tbody tr th:only-of-type {\n",
       "        vertical-align: middle;\n",
       "    }\n",
       "\n",
       "    .dataframe tbody tr th {\n",
       "        vertical-align: top;\n",
       "    }\n",
       "\n",
       "    .dataframe thead th {\n",
       "        text-align: right;\n",
       "    }\n",
       "</style>\n",
       "<table border=\"1\" class=\"dataframe\">\n",
       "  <thead>\n",
       "    <tr style=\"text-align: right;\">\n",
       "      <th></th>\n",
       "      <th>country</th>\n",
       "      <th>description</th>\n",
       "      <th>points</th>\n",
       "      <th>price</th>\n",
       "      <th>province</th>\n",
       "      <th>variety</th>\n",
       "      <th>winery</th>\n",
       "    </tr>\n",
       "  </thead>\n",
       "  <tbody>\n",
       "    <tr>\n",
       "      <th>0</th>\n",
       "      <td>US</td>\n",
       "      <td>This tremendous 100% varietal wine hails from ...</td>\n",
       "      <td>96</td>\n",
       "      <td>235.0</td>\n",
       "      <td>California</td>\n",
       "      <td>Cabernet Sauvignon</td>\n",
       "      <td>Heitz</td>\n",
       "    </tr>\n",
       "    <tr>\n",
       "      <th>1</th>\n",
       "      <td>Spain</td>\n",
       "      <td>Ripe aromas of fig, blackberry and cassis are ...</td>\n",
       "      <td>96</td>\n",
       "      <td>110.0</td>\n",
       "      <td>Northern Spain</td>\n",
       "      <td>Tinta de Toro</td>\n",
       "      <td>Bodega Carmen Rodríguez</td>\n",
       "    </tr>\n",
       "    <tr>\n",
       "      <th>2</th>\n",
       "      <td>US</td>\n",
       "      <td>Mac Watson honors the memory of a wine once ma...</td>\n",
       "      <td>96</td>\n",
       "      <td>90.0</td>\n",
       "      <td>California</td>\n",
       "      <td>Sauvignon Blanc</td>\n",
       "      <td>Macauley</td>\n",
       "    </tr>\n",
       "    <tr>\n",
       "      <th>3</th>\n",
       "      <td>US</td>\n",
       "      <td>This spent 20 months in 30% new French oak, an...</td>\n",
       "      <td>96</td>\n",
       "      <td>65.0</td>\n",
       "      <td>Oregon</td>\n",
       "      <td>Pinot Noir</td>\n",
       "      <td>Ponzi</td>\n",
       "    </tr>\n",
       "    <tr>\n",
       "      <th>4</th>\n",
       "      <td>France</td>\n",
       "      <td>This is the top wine from La Bégude, named aft...</td>\n",
       "      <td>95</td>\n",
       "      <td>66.0</td>\n",
       "      <td>Provence</td>\n",
       "      <td>Provence red blend</td>\n",
       "      <td>Domaine de la Bégude</td>\n",
       "    </tr>\n",
       "  </tbody>\n",
       "</table>\n",
       "</div>"
      ],
      "text/plain": [
       "  country                                        description  points  price  \\\n",
       "0      US  This tremendous 100% varietal wine hails from ...      96  235.0   \n",
       "1   Spain  Ripe aromas of fig, blackberry and cassis are ...      96  110.0   \n",
       "2      US  Mac Watson honors the memory of a wine once ma...      96   90.0   \n",
       "3      US  This spent 20 months in 30% new French oak, an...      96   65.0   \n",
       "4  France  This is the top wine from La Bégude, named aft...      95   66.0   \n",
       "\n",
       "         province             variety                   winery  \n",
       "0      California  Cabernet Sauvignon                    Heitz  \n",
       "1  Northern Spain       Tinta de Toro  Bodega Carmen Rodríguez  \n",
       "2      California     Sauvignon Blanc                 Macauley  \n",
       "3          Oregon          Pinot Noir                    Ponzi  \n",
       "4        Provence  Provence red blend     Domaine de la Bégude  "
      ]
     },
     "execution_count": 91,
     "metadata": {},
     "output_type": "execute_result"
    }
   ],
   "source": [
    "#Since most designation and regions are null, drop those columns\n",
    "wine = wine_orig.drop(['region_1', 'region_2', 'designation', wine_orig.columns[0]], axis=1)\n",
    "\n",
    "#drop any missing countries and prices\n",
    "wine.dropna(subset=['country', 'price'], inplace=True)\n",
    "\n",
    "print(wine.isna().sum())\n",
    "wine.head()"
   ]
  },
  {
   "cell_type": "markdown",
   "id": "5f05980f",
   "metadata": {},
   "source": [
    "### Checking the final shape of the data"
   ]
  },
  {
   "cell_type": "code",
   "execution_count": 92,
   "id": "872db5db",
   "metadata": {},
   "outputs": [
    {
     "name": "stdout",
     "output_type": "stream",
     "text": [
      "Original Shape of the data:  (150930, 11)\n",
      "Shape of the data after dropping columns and rows:  (137230, 7)\n"
     ]
    }
   ],
   "source": [
    "print('Original Shape of the data: ', wine_orig.shape)\n",
    "print('Shape of the data after dropping columns and rows: ', wine.shape)"
   ]
  },
  {
   "cell_type": "markdown",
   "id": "318c981b-3f38-481a-9202-6aa8547dcd51",
   "metadata": {},
   "source": [
    "Check for Errors in the Data"
   ]
  },
  {
   "cell_type": "code",
   "execution_count": 109,
   "id": "35ce2b3f-411d-4472-83f8-6eae86556025",
   "metadata": {},
   "outputs": [
    {
     "name": "stdout",
     "output_type": "stream",
     "text": [
      "['US' 'Spain' 'France' 'Italy' 'New Zealand' 'Bulgaria' 'Argentina'\n",
      " 'Australia' 'Portugal' 'Israel' 'South Africa' 'Greece' 'Chile' 'Morocco'\n",
      " 'Romania' 'Germany' 'Canada' 'Moldova' 'Hungary' 'Austria' 'Croatia'\n",
      " 'Slovenia' 'India' 'Turkey' 'Macedonia' 'Lebanon' 'Serbia' 'Uruguay'\n",
      " 'Switzerland' 'Albania' 'Bosnia and Herzegovina' 'Brazil' 'Cyprus'\n",
      " 'Lithuania' 'Japan' 'China' 'South Korea' 'Ukraine' 'England' 'Mexico'\n",
      " 'Georgia' 'Montenegro' 'Luxembourg' 'Slovakia' 'Czech Republic']\n",
      "Empty DataFrame\n",
      "Columns: [country, description, points, price, province, variety, winery]\n",
      "Index: []\n",
      "['Achaia', 'Aconcagua Costa', 'Aconcagua Valley', 'Aegean', 'Ahr', 'Aigialias Slopes', 'Alenquer', 'Alentejano', 'Alentejo', 'Alenteo', 'Algarve', 'Alsace', 'America', 'Amindeo', 'Amyndeon', 'Andalucia', 'Ankara', 'Apalta', 'Arcadia', 'Arizona', 'Atalanti Valley', 'Atlantida', 'Attica', 'Australia Other', 'Austria', 'Awatere Valley', 'Baden', 'Bairrada', 'Beaujolais', 'Beira Atlantico', 'Beira Interior', 'Beiras', 'Bekaa Valley', \"Beni M'Tir\", 'Beotia', 'Bio Bio Valley', 'Black Sea Coastal', 'Bordeaux', 'Bot River', 'Brazil', 'Brda', 'Breede River Valley', 'Breedekloof', 'British Columbia', 'Bucelas', 'Buin', 'Bulgaria', 'Burgenland', 'Burgundy', 'Cachapoal Valley', 'Cahul', 'California', 'Canada Other', 'Canelones', 'Canterbury', 'Cape Agulhas', 'Cape South Coast', 'Carnuntum', 'Casablanca & Leyda Valleys', 'Casablanca Valley', 'Casablanca-Curico Valley', 'Catalonia', 'Cauquenes Valley', 'Cederberg', 'Central Greece', 'Central Italy', 'Central Otago', 'Central Otago-Marlborough', 'Central Spain', 'Central Valley', 'Cephalonia', 'Chalkidiki', 'Champagne', 'Chile', 'China', 'Chisinau County', 'Choapa Valley', 'Coastal Region', 'Codru Region', 'Colares', 'Colchagua Costa', 'Colchagua Valley', 'Colinele Dobrogei', 'Colonia', 'Colorado', 'Commandaria', 'Connecticut', 'Constantia', 'Corinth', 'Crete', 'Croatia', 'Curico Valley', 'Curico and Leyda Valleys', 'Curico and Maipo Valleys', 'Cyclades', 'Cyprus', 'Dalmatian Coast', 'Dan', 'Danube Hills Valley', 'Danube River Plains', 'Dao', 'Darling', 'Dealu Mare', 'Dealurile Husilor', 'Dealurile Munteniei', 'Dingac', 'Dolenjska', 'Donauland', 'Douro', 'Douro Superior', 'Drama', 'Durbanville', 'Duriense', 'East Coast', 'Eastern Bays', 'Eger', 'Egilias Slopes', 'Eilandia', 'Eisenberg', 'El Colorado', 'Elazig', 'Elgin', 'Elim', 'Ella Valley', 'Elqui Valley', 'England', 'Epanomi', 'Estremadura', 'Evia', 'Felso-Magyarorszag', 'Florina', 'France Other', 'Franken', 'Franschhoek', 'Fruska Gora', 'Galicia', 'Galil', 'Galilee', 'Georgia', 'Gerania', 'Germany', 'Gisborne', 'Golan Heights', 'Goriska Brda', 'Goumenissa', 'Greece', 'Groenekloof', 'Guerrouane', 'Halkidiki', 'Haut-Judee', \"Hawke's Bay\", 'Hemel en Aarde', 'Hrvatsko Primorje', 'Hungary', 'Hvar', 'Idaho', 'Ilia', 'Ilias', 'Imathia', 'Ioannina', 'Iowa', 'Ismarikos', 'Israel', 'Istria', 'Italy Other', 'Itata Valley', 'Jerusalem Hills', 'Jiri Valley', 'Jonkershoek Valley', 'Juanico', 'Judean Hills', 'Kakheti', 'Kamptal', 'Kathikas', 'Kentucky', 'Klein River', 'Korcula', 'Korinthia', 'Krania Olympus', 'Kras', 'Kremstal', 'Krk', 'Kumeu', 'Kutjevo', 'Kyoto', 'Lake Skadar Valley', 'Lakonia', 'Langenlois', 'Languedoc-Roussillon', 'Lebanon', 'Leithaberg', 'Lemesos', 'Lemnos', 'Lesbos', 'Letrinon', 'Levante', 'Leyda Valley', 'Limari Valley', 'Limnos', 'Lisboa', 'Lithuania', 'Loire Valley', 'Lolol Valley', 'Lombardy', 'Loncomilla Valley', 'Lontue Valley', 'Lutzville Valley', 'Macedonia', 'Madeira', 'Maipo Valley', 'Maipo Valley-Colchagua Valley', 'Malgas', 'Malleco', 'Mantinia', 'Marchigue', 'Marlborough', 'Marlborough & Hawkes Bay', 'Martinborough', 'Martinborough Terrace', 'Massachusetts', 'Matra', 'Maule Valley', 'Mavrodaphne of Patras', 'Mendoza Province', 'Messinia', 'Michigan', 'Middle and South Dalmatia', 'Minho', 'Mirdite', 'Missouri', 'Mittelburgenland', 'Moldova', 'Molina', 'Monemvasia', 'Montevideo', 'Moravia', 'Morocco', 'Moscatel de Setubal', 'Moscatel do Douro', 'Mosel', 'Mosel-Saar-Ruwer', 'Moselle Luxembourgeoise', 'Mostar', 'Mount Athos', 'Moutere', 'Murfatlar', 'Murfatlar Cernavoda', 'Muscat of Patras', 'Muzla', 'Nahe', 'Naoussa', 'Napareuli', 'Nashik', 'Negev', 'Negev Hills', 'Nelson', 'Nemea', 'Neszmely', 'Neuchatel', 'Neusiedlersee', 'Neusiedlersee-Hugelland', 'Nevada', 'New Jersey', 'New Mexico', 'New South Wales', 'New York', 'New Zealand', 'Niederosterreich', 'North Carolina', 'North Dalmatia', 'North Island', 'Northeastern Italy', 'Northern Cape', 'Northern Spain', 'Northwestern Italy', 'Obidos', 'Ohio', 'Ohiti Valley', 'Omaka Valley', 'Ontario', 'Opuntia Locris', 'Oregon', 'Osterreichischer Sekt', 'Other', 'Overberg', 'Paarl', 'Pafos', 'Pageon', 'Palmela', 'Pangeon', 'Pannon', 'Patras', 'Peljesac', 'Peloponnese', 'Peninsula de Setubal', 'Pennsylvania', 'Peumo', 'Peza', 'Pfalz', 'Philadelphia', 'Piedmont', 'Pirque', 'Pisatis', 'Pitsilia Mountains', 'Plaiurile Drancei', 'Pocerina', 'Podunavlje', 'Polkadraai Hills', 'Port', 'Portugal', 'Portuguese Table Wine', 'Primorska', 'Progreso', 'Provence', 'Puente Alto', 'Queensland', 'Rapel Valley', 'Rapel Valley-Casablanca Valley', 'Rapsani', 'Recas', 'Requinoa', 'Retsina', 'Rhein-Mosel', 'Rheingau', 'Rheinhessen', 'Rhone Valley', 'Ribatejano', 'Ribatejo', 'Rio Claro', 'Robertson', 'Romania', 'Rose Valley', 'Samos', 'Samson', 'San Antonio', 'San Antonio de las Minas Valley', 'San Clemente', 'San Jose', 'San Vicente', 'Santa Catarina', 'Santa Cruz', 'Santorini', 'Sebes', 'Serra Gaucha', 'Serra do Sudeste', 'Setubal', 'Shomron', 'Sicily & Sardinia', 'Simonsberg-Paarl', 'Simonsberg-Stellenbosch', 'Sliven', 'Slovenia', 'Slovenska Istra', 'Sopron', 'South Africa', 'South Australia', 'South Island', 'South Styria', 'Southern Italy', 'Southwest France', 'Spain Other', 'Spanish Islands', 'Stajerska', 'Steiermark', 'Stellenbosch', 'Sterea Ellada', 'Stirling', 'Styria', 'Sudoststeiermark', 'Sudsteiermark', 'Swartland', 'Szekszard', 'Table wine', 'Targovishte', 'Tarnave', 'Tasmania', 'Tejo', 'Terasele Dunarii', 'Terras do Dao', 'Terras do Sado', 'Texas', 'Thermenregion', 'Thessalikos', 'Thrace', 'Thracian Valley', 'Thraki', 'Ticino', 'Tikves', 'Tokaj', 'Tokaji', 'Torres Vedras', 'Tradouw', 'Traisental', 'Transylvanian Plateau', 'Tulbagh', 'Turkey', 'Tuscany', 'Ukraine', 'Upper Galilee', 'Uruguay', 'Valais', 'Vale Trentino', 'Vale dos Vinhedos', 'Valle de Guadalupe', 'Valle de Guadalupe and Santo Tomas', 'Vanju Mare', 'Veneto', 'Vermont', 'Victoria', 'Vienna', 'Viile Carasului', 'Viile Timis', 'Viile Timisului', 'Villany', \"Vin de Pays d'Imathia\", 'Vin de Pays de Macedoine', 'Vin de Pays de Velvendo', 'Vinho Espumante de Qualidade', 'Vinho Licoroso', 'Vinho Verde', 'Vinho da Mesa', 'Vino da Tavola della Svizzera Italiana', 'Vipavska Dolina', 'Virginia', 'Wachau', 'Wagram', 'Wagram-Donauland', 'Waiheke Island', 'Waipara', 'Waipara Valley', 'Wairarapa', 'Wairau Valley', 'Walker Bay', 'Washington', 'Washington-Oregon', 'Weinland Osterreich', 'Weinviertel', 'Wellington', 'Western Australia', 'Western Cape', 'Wiener Gemischter Satz', 'Wurttemberg', 'Zenata', 'Zitsa', 'Zupa']\n",
      "   province   Count\n",
      "0     False  137217\n",
      "1      True      12\n"
     ]
    }
   ],
   "source": [
    "#Check all of the unique countries. Does US ever show up as USA or United States?\n",
    "print(wine.country.unique())\n",
    "print(wine[wine['country']=='US-France'])\n",
    "\n",
    "#There is one country with the name \"US-France\", since it is not clear which country it comes from, and there is only one data entry, drop this row.\n",
    "wine=wine[wine['country'] !='US-France']\n",
    "\n",
    "#Check all the unique provinces, are there any with a spelling mistake that are incorrectly classified?\n",
    "print(sorted(wine.variety.unique()))\n",
    "#There are no misspelled wines. \n",
    "\n",
    "#check for any anomolies in the province data\n",
    "print(sorted(wine.province.unique()))\n",
    "\n",
    "#There is a province labelled Table-Wine - In EU regulation, wine is categorized as table-wine when it is lower quality. \n",
    "#***This will be very interesting to analyze\n",
    "#Lower quality wine doesn't need to be categorized into provinces."
   ]
  },
  {
   "cell_type": "markdown",
   "id": "98ebbaf8-ce40-433b-8ad7-6d7d685f29c3",
   "metadata": {},
   "source": [
    "Check for Outliers"
   ]
  },
  {
   "cell_type": "code",
   "execution_count": 100,
   "id": "48f576ee-1bd8-4b1e-8b93-75cec7061011",
   "metadata": {},
   "outputs": [
    {
     "name": "stdout",
     "output_type": "stream",
     "text": [
      "The highest wine score is:  100\n",
      "The lowest wine score is:  80\n",
      "The highest wine price is:  2300.0\n",
      "The lowest wine price is:  4.0\n",
      "                   country  Count\n",
      "0                  Albania      2\n",
      "1                Argentina   5587\n",
      "2                Australia   4894\n",
      "3                  Austria   2483\n",
      "4   Bosnia and Herzegovina      4\n",
      "5                   Brazil     25\n",
      "6                 Bulgaria     77\n",
      "7                   Canada    194\n",
      "8                    Chile   5766\n",
      "9                    China      3\n",
      "10                 Croatia     83\n",
      "11                  Cyprus     31\n",
      "12          Czech Republic      6\n",
      "13                 England      8\n",
      "14                  France  14785\n",
      "15                 Georgia     43\n",
      "16                 Germany   2347\n",
      "17                  Greece    872\n",
      "18                 Hungary    230\n",
      "19                   India      8\n",
      "20                  Israel    610\n",
      "21                   Italy  18784\n",
      "22                   Japan      2\n",
      "23                 Lebanon     37\n",
      "24               Lithuania      8\n",
      "25              Luxembourg      9\n",
      "26               Macedonia     16\n",
      "27                  Mexico     63\n",
      "28                 Moldova     71\n",
      "29              Montenegro      2\n",
      "30                 Morocco     12\n",
      "31             New Zealand   3070\n",
      "32                Portugal   4176\n",
      "33                 Romania    139\n",
      "34                  Serbia     14\n",
      "35                Slovakia      3\n",
      "36                Slovenia     81\n",
      "37            South Africa   2237\n",
      "38             South Korea      4\n",
      "39                   Spain   8160\n",
      "40             Switzerland      4\n",
      "41                  Turkey     50\n",
      "42                      US  62139\n",
      "43                 Ukraine      5\n",
      "44                 Uruguay     85\n",
      "      price  Count\n",
      "0       4.0     18\n",
      "1       5.0     87\n",
      "2       6.0    317\n",
      "3       7.0    755\n",
      "4       8.0   1633\n",
      "..      ...    ...\n",
      "352  1300.0      1\n",
      "353  1400.0      3\n",
      "354  1900.0      1\n",
      "355  2013.0      1\n",
      "356  2300.0      1\n",
      "\n",
      "[357 rows x 2 columns]\n",
      "                    variety  Count\n",
      "0               Agiorgitiko    117\n",
      "1                 Aglianico    259\n",
      "2                    Aidani      1\n",
      "3                     Airen      6\n",
      "4                    Albana     15\n",
      "..                      ...    ...\n",
      "614  Zierfandler-Rotgipfler      2\n",
      "615                 Zilavka      2\n",
      "616               Zinfandel   3794\n",
      "617                Zlahtina      4\n",
      "618                Zweigelt    200\n",
      "\n",
      "[619 rows x 2 columns]\n"
     ]
    }
   ],
   "source": [
    "#Check any outliers in the points. Points should be on a scale from 80 - 100\n",
    "max_points = wine['points'].max()\n",
    "min_points = wine['points'].min()\n",
    "print('The highest wine score is: ', max_points)\n",
    "print('The lowest wine score is: ', min_points)\n",
    "\n",
    "#check for any negative prices or impossibly high prices.\n",
    "max_price = wine['price'].max()\n",
    "min_price = wine['price'].min()\n",
    "print('The highest wine price is: ', max_price)\n",
    "print('The lowest wine price is: ', min_price)\n",
    "\n",
    "#some countries only have a few datapoints in this set. We should not use those to determine any trend within that country.\n",
    "country_counts = wine.groupby('country').size().reset_index(name='Count')\n",
    "print(country_counts)\n",
    "\n",
    "#some high outlier prices may skew the data towards those. \n",
    "#When we analyze description vs price, we should stay in the middle of the bell curve.\n",
    "price_counts = wine.groupby('price').size().reset_index(name='Count')\n",
    "print(price_counts)\n",
    "\n",
    "#there are a lot of varietals that only occurs once. Same as above, we shouldn't analyze these single occurences for any trend.\n",
    "variety_counts = wine.groupby('variety').size().reset_index(name='Count')\n",
    "print(variety_counts)"
   ]
  },
  {
   "cell_type": "markdown",
   "id": "5d63b3d8",
   "metadata": {},
   "source": [
    "### Word Normalization\n",
    "We want to be consistent with our text data so here we change all of the text in the description column to lowercase. We also remove character accents in the description, province, variety and winery fields."
   ]
  },
  {
   "cell_type": "code",
   "execution_count": 95,
   "id": "e1776c76",
   "metadata": {},
   "outputs": [
    {
     "data": {
      "text/html": [
       "<div>\n",
       "<style scoped>\n",
       "    .dataframe tbody tr th:only-of-type {\n",
       "        vertical-align: middle;\n",
       "    }\n",
       "\n",
       "    .dataframe tbody tr th {\n",
       "        vertical-align: top;\n",
       "    }\n",
       "\n",
       "    .dataframe thead th {\n",
       "        text-align: right;\n",
       "    }\n",
       "</style>\n",
       "<table border=\"1\" class=\"dataframe\">\n",
       "  <thead>\n",
       "    <tr style=\"text-align: right;\">\n",
       "      <th></th>\n",
       "      <th>country</th>\n",
       "      <th>description</th>\n",
       "      <th>points</th>\n",
       "      <th>price</th>\n",
       "      <th>province</th>\n",
       "      <th>variety</th>\n",
       "      <th>winery</th>\n",
       "    </tr>\n",
       "  </thead>\n",
       "  <tbody>\n",
       "    <tr>\n",
       "      <th>0</th>\n",
       "      <td>US</td>\n",
       "      <td>this tremendous 100% varietal wine hails from ...</td>\n",
       "      <td>96</td>\n",
       "      <td>235.0</td>\n",
       "      <td>California</td>\n",
       "      <td>Cabernet Sauvignon</td>\n",
       "      <td>Heitz</td>\n",
       "    </tr>\n",
       "    <tr>\n",
       "      <th>1</th>\n",
       "      <td>Spain</td>\n",
       "      <td>ripe aromas of fig, blackberry and cassis are ...</td>\n",
       "      <td>96</td>\n",
       "      <td>110.0</td>\n",
       "      <td>Northern Spain</td>\n",
       "      <td>Tinta de Toro</td>\n",
       "      <td>Bodega Carmen Rodriguez</td>\n",
       "    </tr>\n",
       "    <tr>\n",
       "      <th>2</th>\n",
       "      <td>US</td>\n",
       "      <td>mac watson honors the memory of a wine once ma...</td>\n",
       "      <td>96</td>\n",
       "      <td>90.0</td>\n",
       "      <td>California</td>\n",
       "      <td>Sauvignon Blanc</td>\n",
       "      <td>Macauley</td>\n",
       "    </tr>\n",
       "    <tr>\n",
       "      <th>3</th>\n",
       "      <td>US</td>\n",
       "      <td>this spent 20 months in 30% new french oak, an...</td>\n",
       "      <td>96</td>\n",
       "      <td>65.0</td>\n",
       "      <td>Oregon</td>\n",
       "      <td>Pinot Noir</td>\n",
       "      <td>Ponzi</td>\n",
       "    </tr>\n",
       "    <tr>\n",
       "      <th>4</th>\n",
       "      <td>France</td>\n",
       "      <td>this is the top wine from la begude, named aft...</td>\n",
       "      <td>95</td>\n",
       "      <td>66.0</td>\n",
       "      <td>Provence</td>\n",
       "      <td>Provence red blend</td>\n",
       "      <td>Domaine de la Begude</td>\n",
       "    </tr>\n",
       "  </tbody>\n",
       "</table>\n",
       "</div>"
      ],
      "text/plain": [
       "  country                                        description  points  price  \\\n",
       "0      US  this tremendous 100% varietal wine hails from ...      96  235.0   \n",
       "1   Spain  ripe aromas of fig, blackberry and cassis are ...      96  110.0   \n",
       "2      US  mac watson honors the memory of a wine once ma...      96   90.0   \n",
       "3      US  this spent 20 months in 30% new french oak, an...      96   65.0   \n",
       "4  France  this is the top wine from la begude, named aft...      95   66.0   \n",
       "\n",
       "         province             variety                   winery  \n",
       "0      California  Cabernet Sauvignon                    Heitz  \n",
       "1  Northern Spain       Tinta de Toro  Bodega Carmen Rodriguez  \n",
       "2      California     Sauvignon Blanc                 Macauley  \n",
       "3          Oregon          Pinot Noir                    Ponzi  \n",
       "4        Provence  Provence red blend     Domaine de la Begude  "
      ]
     },
     "execution_count": 95,
     "metadata": {},
     "output_type": "execute_result"
    }
   ],
   "source": [
    "wine['description'] = wine['description'].str.lower()\n",
    "\n",
    "#remove accents\n",
    "columns = ['description', 'province', 'variety', 'winery']\n",
    "\n",
    "for col in columns:\n",
    "    wine[col] = wine[col].apply(lambda x: unidecode.unidecode(x))\n",
    "    \n",
    "wine.head()"
   ]
  },
  {
   "cell_type": "markdown",
   "id": "d2a908d0",
   "metadata": {},
   "source": [
    "### Initial Exploratory Data Analysis"
   ]
  },
  {
   "cell_type": "code",
   "execution_count": 96,
   "id": "36fa3cb4",
   "metadata": {},
   "outputs": [
    {
     "data": {
      "image/png": "[encoded data removed]",
      "text/plain": [
       "<Figure size 640x480 with 1 Axes>"
      ]
     },
     "metadata": {},
     "output_type": "display_data"
    },
    {
     "data": {
      "image/png": "[encoded data removed]",
      "text/plain": [
       "<Figure size 1000x500 with 1 Axes>"
      ]
     },
     "metadata": {},
     "output_type": "display_data"
    },
    {
     "data": {
      "image/png": "[encoded data removed]",
      "text/plain": [
       "<Figure size 1000x500 with 1 Axes>"
      ]
     },
     "metadata": {},
     "output_type": "display_data"
    },
    {
     "name": "stderr",
     "output_type": "stream",
     "text": [
      "/Users/nick/opt/anaconda3/envs/ensf-ml/lib/python3.11/site-packages/matplotlib/axes/_axes.py:6827: RuntimeWarning: invalid value encountered in multiply\n",
      "  boffset = -0.5 * dr * totwidth * (1 - 1 / nx)\n"
     ]
    },
    {
     "data": {
      "image/png": "[encoded data removed]",
      "text/plain": [
       "<Figure size 640x480 with 1 Axes>"
      ]
     },
     "metadata": {},
     "output_type": "display_data"
    }
   ],
   "source": [
    "# Average Price bt Points\n",
    "average_price_by_points = wine.groupby('points')['price'].mean()\n",
    "average_price_by_points.plot(kind='line')\n",
    "plt.xlabel('Points')\n",
    "plt.ylabel('Average Price')\n",
    "plt.title('Average Price by Points')\n",
    "plt.show()\n",
    "\n",
    "colors_countries = sns.color_palette(\"Set3\", 10)\n",
    "colors_varieties = sns.color_palette(\"pastel\", 10)\n",
    "\n",
    "# Top 10 Countries\n",
    "top_10_countries = wine['country'].value_counts().head(10)\n",
    "top_10_countries.plot(kind='bar', figsize=(10, 5), color=colors_countries)\n",
    "plt.title('Top 10 Country Value Counts')\n",
    "plt.show()\n",
    "\n",
    "# Top 10 Varieties\n",
    "top_10_varieties = wine['variety'].value_counts().head(10)\n",
    "top_10_varieties.plot(kind='bar', figsize=(10, 5), color=colors_varieties)\n",
    "plt.title('Top 10 Variety Value Counts')\n",
    "plt.show()\n",
    "\n",
    "# Frequency of Price (Not a good graph since the tail is so wide)\n",
    "bins = list(range(0, 101, 10)) + [float('inf')]\n",
    "plt.hist(wine['price'], bins=bins)\n",
    "plt.gca().set(title='Frequency of Wine Prices', ylabel='Frequency', xlabel='Price ($)');\n",
    "plt.show()"
   ]
  },
  {
   "cell_type": "markdown",
   "id": "20de4095",
   "metadata": {},
   "source": [
    "### Export cleaned data to new .csv\n"
   ]
  },
  {
   "cell_type": "code",
   "execution_count": 97,
   "id": "811317a0",
   "metadata": {},
   "outputs": [],
   "source": [
    "wine.to_csv('wine_clean.csv', index=False)"
   ]
  },
  {
   "cell_type": "code",
   "execution_count": 98,
   "id": "7d42388a-69a5-4d19-ae8f-2d286b8c5b71",
   "metadata": {},
   "outputs": [],
   "source": [
    "#Mapper.py\n"
   ]
  }
 ],
 "metadata": {
  "kernelspec": {
   "display_name": "Python 3 (ipykernel)",
   "language": "python",
   "name": "python3"
  },
  "language_info": {
   "codemirror_mode": {
    "name": "ipython",
    "version": 3
   },
   "file_extension": ".py",
   "mimetype": "text/x-python",
   "name": "python",
   "nbconvert_exporter": "python",
   "pygments_lexer": "ipython3",
   "version": "3.11.5"
  }
 },
 "nbformat": 4,
 "nbformat_minor": 5
}
